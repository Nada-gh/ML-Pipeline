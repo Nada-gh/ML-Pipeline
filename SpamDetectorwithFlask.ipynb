{
 "cells": [
  {
   "cell_type": "code",
   "execution_count": 8,
   "metadata": {},
   "outputs": [],
   "source": [
    "import pandas as pd\n",
    "import numpy as np\n",
    "import os\n",
    "import seaborn as sns\n",
    "import matplotlib.pyplot as plt\n",
    "#import string \n",
    "#%matplotlib inline\n",
    "#import collections\n",
    "from sklearn.pipeline import Pipeline\n",
    "from sklearn.feature_extraction.text import CountVectorizer\n",
    "from sklearn.feature_extraction.text import TfidfTransformer\n",
    "#from sklearn.metrics import classification_report\n",
    "from sklearn import feature_extraction\n",
    "#from sklearn.metrics import roc_auc_score\n",
    "from nltk.corpus import stopwords\n",
    "import nltk\n",
    "import warnings\n",
    "warnings.filterwarnings('ignore')\n",
    "\n",
    "import dill as pickle\n",
    "from sklearn.externals import joblib\n",
    "from sklearn.model_selection import train_test_split, GridSearchCV\n",
    "#from sklearn.base import BaseEstimator, TransformerMixin\n",
    "from sklearn.ensemble import RandomForestClassifier\n",
    "\n",
    "from sklearn.pipeline import make_pipeline\n",
    "from sklearn.linear_model import SGDClassifier\n"
   ]
  },
  {
   "cell_type": "code",
   "execution_count": 9,
   "metadata": {},
   "outputs": [],
   "source": [
    "def build_and_train():\n",
    "    path='/Users/KBrig/ML-Pipeline/spam.csv'\n",
    "    #EmData= pd.read_csv('Spam.csv',encoding='cp1252')\n",
    "    EmData= pd.read_csv(path,encoding='cp1252',dtype={'type':np.str, 'Email_body':np.str})\n",
    "    EmData=EmData[['type','Email_body']]\n",
    "    \n",
    "    EmData['type_num']= EmData.type.map({'ham':0, 'spam':1})\n",
    "    \n",
    "    X= EmData.Email_body\n",
    "    y= EmData['type_num']\n",
    "    X_train, X_test, y_train, y_test = train_test_split(X,y,test_size=0.3, random_state=1)\n",
    "    def pip(classifier):\n",
    "        #SW = set(stopwords.words('english'))\n",
    "        pipeline = Pipeline([\n",
    "            ('vect', CountVectorizer()),  # strings to token integer counts\n",
    "            ('tfidf', TfidfTransformer()),  # integer counts to weighted TF-IDF scores\n",
    "            ('clf', classifier),\n",
    "        ])\n",
    "        return(pipeline)\n",
    "    pip_SVM = pip(SGDClassifier(random_state=0))\n",
    "    pip_SVM.fit(X_train,y_train)\n",
    "    return(pip_SVM)\n",
    "\n",
    "if __name__ == '__main__':\n",
    "    model = build_and_train()\n",
    "    filename = 'model_v1.pk'\n",
    "    with open('C:/Users/KBrig/ML-Pipeline/flask_api/models/'+filename, 'wb') as file:\n",
    "        pickle.dump(model, file)\n"
   ]
  },
  {
   "cell_type": "code",
   "execution_count": 10,
   "metadata": {},
   "outputs": [],
   "source": [
    "with open('C:/Users/KBrig/ML-Pipeline/flask_api/models/'+filename ,'rb') as file:\n",
    "    loaded_model = pickle.load(file)"
   ]
  },
  {
   "cell_type": "code",
   "execution_count": 12,
   "metadata": {},
   "outputs": [
    {
     "data": {
      "text/plain": [
       "array([0, 0, 1, 0], dtype=int64)"
      ]
     },
     "execution_count": 12,
     "metadata": {},
     "output_type": "execute_result"
    }
   ],
   "source": [
    "#ham:0, spam:1\n",
    "loaded_model.predict([\"Hi I am Nada Can you call me back please\", \"membership for $$5000\", \" promotion deals for free$$\", \" 15$$ @&&\"])"
   ]
  }
 ],
 "metadata": {
  "kernelspec": {
   "display_name": "Python 3",
   "language": "python",
   "name": "python3"
  },
  "language_info": {
   "codemirror_mode": {
    "name": "ipython",
    "version": 3
   },
   "file_extension": ".py",
   "mimetype": "text/x-python",
   "name": "python",
   "nbconvert_exporter": "python",
   "pygments_lexer": "ipython3",
   "version": "3.7.0"
  }
 },
 "nbformat": 4,
 "nbformat_minor": 2
}
